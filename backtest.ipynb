import pandas as pd

df = pd.read_csv("data/prices.csv", parse_dates=["Date"], index_col="Date")
df.head()

